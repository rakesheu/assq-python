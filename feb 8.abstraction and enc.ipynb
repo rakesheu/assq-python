{
 "cells": [
  {
   "cell_type": "markdown",
   "id": "ea05c039-8d1f-49c9-a283-6151d5718bf4",
   "metadata": {},
   "source": [
    "###Q1. What is Abstraction in OOps? Explain with an example."
   ]
  },
  {
   "cell_type": "markdown",
   "id": "179770cf-4849-49c9-8842-caa60a39c98d",
   "metadata": {},
   "source": [
    "In object-oriented programming (OOP), abstraction is a fundamental concept that focuses on representing essential features and behaviors of objects while hiding unnecessary details. It allows you to create a simplified model of real-world entities in your code.\n",
    "\n",
    "Abstraction is achieved through two primary mechanisms: classes and interfaces. A class is a blueprint for creating objects that encapsulate data (attributes) and behaviors (methods) related to a specific entity. An interface, on the other hand, defines a contract for a set of methods that a class must implement."
   ]
  },
  {
   "cell_type": "code",
   "execution_count": 12,
   "id": "f5f87e0e-98a5-49e1-bb33-14f94aac05ab",
   "metadata": {},
   "outputs": [],
   "source": [
    "class Animal:\n",
    "    def sound(self):\n",
    "        pass\n",
    "class Dog(Animal):\n",
    "    def sound(self):\n",
    "        print(\"woof!\")\n",
    "        \n",
    "class cat(Animal):\n",
    "    def sound(self):\n",
    "        print(\"meow!\")\n",
    "        \n",
    "class cow(Animal):\n",
    "    def sound(self):\n",
    "        print(\"moo!\")\n",
    "         \n",
    "#creating instances of different Animals\n",
    "\n",
    "dog = Dog()\n",
    "cat = cat()\n",
    "cow  =cow()\n"
   ]
  },
  {
   "cell_type": "code",
   "execution_count": 13,
   "id": "40e05c6d-3235-44b2-ae18-05ddcdb6904d",
   "metadata": {},
   "outputs": [
    {
     "name": "stdout",
     "output_type": "stream",
     "text": [
      "meow!\n"
     ]
    }
   ],
   "source": [
    "#calling the sound method without worrying about the internal implentation\n",
    "cat.sound()\n"
   ]
  },
  {
   "cell_type": "code",
   "execution_count": 14,
   "id": "cd8e3571-b442-4d74-8c0b-03d1e42ea027",
   "metadata": {},
   "outputs": [
    {
     "name": "stdout",
     "output_type": "stream",
     "text": [
      "woof!\n"
     ]
    }
   ],
   "source": [
    "dog.sound()"
   ]
  },
  {
   "cell_type": "code",
   "execution_count": 15,
   "id": "7484fcd9-3f87-40e0-8a53-85ff61133f72",
   "metadata": {},
   "outputs": [
    {
     "name": "stdout",
     "output_type": "stream",
     "text": [
      "moo!\n"
     ]
    }
   ],
   "source": [
    "cow.sound()"
   ]
  },
  {
   "cell_type": "markdown",
   "id": "0f1d5de5-c9db-4211-bf5c-c70d513fa9da",
   "metadata": {},
   "source": [
    "###Q2. Differentiate between Abstraction and Encapsulation. Explain with an example."
   ]
  },
  {
   "cell_type": "markdown",
   "id": "6b672b9e-04c0-45ed-9d1b-c6f8404de304",
   "metadata": {},
   "source": [
    "Abstraction and encapsulation are two important concepts in object-oriented programming (OOP) that serve distinct purposes but work together to achieve code organization, modularity, and information hiding. Here's a comparison of the two concepts:\n",
    "\n",
    "Abstraction:\n",
    "\n",
    "Abstraction focuses on representing essential features and behaviors of objects while hiding unnecessary details.\n",
    "It provides a simplified and generalized view of objects and their interactions.\n",
    "Abstraction is achieved through classes and interfaces.\n",
    "It allows us to work with higher-level concepts and ignore the specific implementation details.\n",
    "\n",
    "Encapsulation:\n",
    "\n",
    "Encapsulation is the process of bundling data (attributes) and methods (behaviors) into a single unit, known as a class.\n",
    "It ensures that the internal workings and state of an object are hidden from outside access and manipulation.\n",
    "Encapsulation provides data protection and maintains the integrity of an object by enforcing access restrictions (e.g., public, private, protected).\n",
    "It allows for better control over how data is accessed and modified, preventing direct manipulation from external code."
   ]
  },
  {
   "cell_type": "code",
   "execution_count": 24,
   "id": "88f889e4-85df-4812-b720-f580915e69ea",
   "metadata": {},
   "outputs": [],
   "source": [
    "#for example\n",
    "\n",
    "class BankAccount:\n",
    "    def __init__(self, account_number, balance):\n",
    "        self.account_number= account_number\n",
    "        self.balance = balance\n",
    "        \n",
    "    def deposit(self, amount):\n",
    "        self.balance += amount\n",
    "        \n",
    "    def withdraw(self, amount):\n",
    "        if amount <= self.balance:\n",
    "            self.balance -= amount\n",
    "            \n",
    "        else:\n",
    "            print(\"insufficient balance.\")\n",
    "            \n",
    "    def get_balance(self):\n",
    "        return self.balance"
   ]
  },
  {
   "cell_type": "code",
   "execution_count": 25,
   "id": "d6442fef-9251-4b04-9d00-6c1b677f891b",
   "metadata": {},
   "outputs": [],
   "source": [
    "account = BankAccount(\"123456789\", 1000)\n",
    "\n",
    "account.deposit(500)\n",
    "account.withdraw(200)\n",
    "balance = account.get_balance()"
   ]
  },
  {
   "cell_type": "code",
   "execution_count": 26,
   "id": "d42b0be5-3973-42bf-8c7f-cef0b7620151",
   "metadata": {},
   "outputs": [
    {
     "data": {
      "text/plain": [
       "1300"
      ]
     },
     "execution_count": 26,
     "metadata": {},
     "output_type": "execute_result"
    }
   ],
   "source": [
    "account.get_balance()"
   ]
  },
  {
   "cell_type": "markdown",
   "id": "7d619b01-8838-4c71-ac2e-61030c6d85cb",
   "metadata": {},
   "source": [
    "###Q3. What is abc module in python? Why is it used?"
   ]
  },
  {
   "cell_type": "markdown",
   "id": "11c0f265-a111-461b-85cc-e81f002d30d5",
   "metadata": {},
   "source": [
    "The abc module in Python stands for \"Abstract Base Classes.\" It provides a way to define abstract classes in Python, which are classes that cannot be instantiated directly and serve as a blueprint for subclasses. The abc module is part of the Python Standard Library and is used for creating abstract base classes and defining interfaces.\n",
    "\n",
    "The abc module is used for the following purposes:\n",
    "\n",
    "Defining Abstract Base Classes (ABCs): The abc module provides the ABC class as a metaclass for creating abstract base classes. An abstract base class can define abstract methods, which are methods without any implementation. Subclasses derived from an abstract base class must implement these abstract methods. This mechanism enforces certain behaviors or interfaces across related classes.\n",
    "\n",
    "Creating Interfaces: The abc module also provides the ABC class as a base class for defining interfaces. An interface defines a contract for a set of methods that a class must implement. By inheriting from the ABC class and using the @abstractmethod decorator, you can define abstract methods that serve as the interface's required methods. Classes that implement the interface must provide implementations for all the abstract methods.\n",
    "\n",
    "Here's an example to demonstrate the usage of the abc module:"
   ]
  },
  {
   "cell_type": "code",
   "execution_count": 46,
   "id": "13941f95-a1b0-40a1-98de-6496f0d90c5f",
   "metadata": {},
   "outputs": [
    {
     "name": "stdout",
     "output_type": "stream",
     "text": [
      "10\n",
      "14\n"
     ]
    }
   ],
   "source": [
    "from abc import ABC, abstractmethod\n",
    "\n",
    "class Shape(ABC):\n",
    "    @abstractmethod\n",
    "    def area(self):\n",
    "            pass\n",
    "    @abstractmethod\n",
    "    def perimeter(self):\n",
    "        pass\n",
    "    \n",
    "class Rectangle(Shape):\n",
    "    def __init__(self, length, width):\n",
    "        self.length = length\n",
    "        self. width= width\n",
    "        \n",
    "    def area(self):\n",
    "        return self.length * self.width\n",
    "    \n",
    "    def perimeter(self):\n",
    "        return 2 *(self.length + self.width)\n",
    "    \n",
    "class Circle(Shape):\n",
    "    def __init__(self, radius):\n",
    "        self.radius = radius\n",
    "        \n",
    "    def area(self):\n",
    "        return 3.14*self.radius**2\n",
    "    \n",
    "    def permieter(self):\n",
    "        return 2*3.14*self.radius\n",
    "rectangle = Rectangle(2, 5)\n",
    "\n",
    "\n",
    "print(rectangle.area())\n",
    "print(rectangle.perimeter())\n"
   ]
  },
  {
   "cell_type": "markdown",
   "id": "c0ec4e4d-3174-4836-b18a-6163ca2dddb5",
   "metadata": {},
   "source": [
    "###Q4. How can we achieve data abstraction?"
   ]
  },
  {
   "cell_type": "markdown",
   "id": "851446b3-e634-41d7-9233-63c36746a1ad",
   "metadata": {},
   "source": [
    " Data abstraction in programming refers to the process of representing essential information about an object while hiding unnecessary details and implementation specifics. It allows users to interact with the object using a simplified and intuitive interface, without needing to know the internal workings or complexities. Here are a few ways to achieve data abstraction:\n",
    "\n",
    "Classes and Objects: In object-oriented programming, you can use classes and objects to achieve data abstraction. Define a class that encapsulates the data and related methods of an object. The class exposes only the necessary methods or properties to interact with the data, hiding the internal implementation details. Users of the class can work with objects and manipulate data through these exposed methods, without needing to know the underlying complexities.\n",
    "\n",
    "Access Modifiers: Utilize access modifiers, such as public, private, and protected, to control the visibility and accessibility of data and methods. By marking certain members as private, you restrict direct access from outside the class. Instead, provide public methods (getters and setters) to read and modify the data indirectly. This way, you can enforce data abstraction by preventing unauthorized access and maintaining the integrity of the object's state.\n",
    "\n",
    "Interfaces: Interfaces define a contract for a set of methods that a class must implement. By using interfaces, you can achieve data abstraction by focusing on the behavior and functionality of objects rather than their specific implementations. Clients interact with objects through the interface, which provides a high-level view of the capabilities of the object. Different classes can implement the same interface, allowing objects to be treated uniformly without exposing their internal details.\n",
    "\n",
    "Encapsulation: Encapsulation refers to bundling data and methods together within a class. It allows you to hide the internal state and implementation details of an object, providing a higher level of abstraction. By encapsulating data and methods together, you can control access to the data and ensure that it is modified only through defined methods. This promotes data abstraction by limiting direct manipulation of the internal data and enforcing proper usage of the object's interface.\n",
    "\n",
    "By applying these techniques, you can achieve data abstraction and create code that is easier to understand, maintain, and extend. It allows you to focus on the essential aspects of an object, promotes code reusability, and reduces dependencies on implementation details."
   ]
  },
  {
   "cell_type": "markdown",
   "id": "fbd47c2c-5797-445b-be9f-265c0da66014",
   "metadata": {},
   "source": [
    "5.###Can we create an instance of an abstract class? Explain your answer."
   ]
  },
  {
   "cell_type": "markdown",
   "id": "d1c73c4f-fff5-47af-9524-5640193d1aa8",
   "metadata": {},
   "source": [
    "No, we cannot create an instance of an abstract class in most programming languages, including Python. An abstract class is designed to serve as a blueprint for other classes and cannot be instantiated directly.\n",
    "\n",
    "An abstract class is declared with the intention that it will be subclassed, and the subclass will provide implementations for the abstract methods defined in the abstract class. The abstract methods are declared without any implementation details in the abstract class, and their implementation is left to the subclasses.\n",
    "\n",
    "In Python, if you try to create an instance of an abstract class, it will raise a TypeError with a message indicating that the abstract class cannot be instantiated."
   ]
  },
  {
   "cell_type": "code",
   "execution_count": 47,
   "id": "9e43841f-bad9-48e2-a7bb-85d58f8b37eb",
   "metadata": {},
   "outputs": [
    {
     "ename": "TypeError",
     "evalue": "Can't instantiate abstract class MyAbstractClass with abstract method my_abstract_method",
     "output_type": "error",
     "traceback": [
      "\u001b[0;31m---------------------------------------------------------------------------\u001b[0m",
      "\u001b[0;31mTypeError\u001b[0m                                 Traceback (most recent call last)",
      "Cell \u001b[0;32mIn[47], line 9\u001b[0m\n\u001b[1;32m      6\u001b[0m         \u001b[38;5;28;01mpass\u001b[39;00m\n\u001b[1;32m      8\u001b[0m \u001b[38;5;66;03m# Attempting to create an instance of the abstract class\u001b[39;00m\n\u001b[0;32m----> 9\u001b[0m my_object \u001b[38;5;241m=\u001b[39m \u001b[43mMyAbstractClass\u001b[49m\u001b[43m(\u001b[49m\u001b[43m)\u001b[49m  \u001b[38;5;66;03m# Raises TypeError: Can't instantiate abstract class MyAbstractClass with abstract methods my_abstract_method\u001b[39;00m\n",
      "\u001b[0;31mTypeError\u001b[0m: Can't instantiate abstract class MyAbstractClass with abstract method my_abstract_method"
     ]
    }
   ],
   "source": [
    "from abc import ABC, abstractmethod\n",
    "\n",
    "class MyAbstractClass(ABC):\n",
    "    @abstractmethod\n",
    "    def my_abstract_method(self):\n",
    "        pass\n",
    "\n",
    "# Attempting to create an instance of the abstract class\n",
    "my_object = MyAbstractClass()  # Raises TypeError: Can't instantiate abstract class MyAbstractClass with abstract methods my_abstract_method\n"
   ]
  },
  {
   "cell_type": "code",
   "execution_count": null,
   "id": "0ad31ca6-a78a-4222-a1c5-2ec8facfd40b",
   "metadata": {},
   "outputs": [],
   "source": []
  }
 ],
 "metadata": {
  "kernelspec": {
   "display_name": "Python 3 (ipykernel)",
   "language": "python",
   "name": "python3"
  },
  "language_info": {
   "codemirror_mode": {
    "name": "ipython",
    "version": 3
   },
   "file_extension": ".py",
   "mimetype": "text/x-python",
   "name": "python",
   "nbconvert_exporter": "python",
   "pygments_lexer": "ipython3",
   "version": "3.10.8"
  }
 },
 "nbformat": 4,
 "nbformat_minor": 5
}
