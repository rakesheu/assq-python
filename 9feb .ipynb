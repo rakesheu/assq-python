{
 "cells": [
  {
   "cell_type": "markdown",
   "id": "3345dd8e-8fb2-405e-b0e6-7705e8f6bc69",
   "metadata": {},
   "source": [
    "##Q1, Create a vehicle class with an init method having instance variables as name_of_vehicle, max_speed\n",
    "and average_of_vehicle."
   ]
  },
  {
   "cell_type": "code",
   "execution_count": 7,
   "id": "7e03d7a4-1876-4308-bafb-1183320e2705",
   "metadata": {},
   "outputs": [],
   "source": [
    "class Vechicle:\n",
    "    def __init__(self, name_of_vechicle, max_speed, average_of_vechicle):\n",
    "        self.name_of_vechicle= name_of_vechicle\n",
    "        self.max_speed= max_speed\n",
    "        self.average_of_vechicle= average_of_vechicle"
   ]
  },
  {
   "cell_type": "code",
   "execution_count": 8,
   "id": "56091cae-bbe3-4634-a616-79e72108c1e6",
   "metadata": {},
   "outputs": [
    {
     "name": "stdout",
     "output_type": "stream",
     "text": [
      "Car\n",
      "250\n",
      "50\n"
     ]
    }
   ],
   "source": [
    "car = Vechicle(\"Car\", 250, 50)\n",
    "print(car.name_of_vechicle)\n",
    "print(car.max_speed)\n",
    "print(car.average_of_vechicle)"
   ]
  },
  {
   "cell_type": "markdown",
   "id": "16c91fd2-6d86-491a-9c23-f29480e47f5c",
   "metadata": {},
   "source": [
    "##Q2. Create a child class car from the vehicle class created in Que 1, which will inherit the vehicle class.\n",
    "Create a method named seating_capacity which takes capacity as an argument and returns the name of\n",
    "the vehicle and its seating capacity."
   ]
  },
  {
   "cell_type": "code",
   "execution_count": 3,
   "id": "8579ed3e-06c5-4983-91ca-b671c925f0ad",
   "metadata": {},
   "outputs": [
    {
     "name": "stdout",
     "output_type": "stream",
     "text": [
      "NAme: Tesla, color: Black\n",
      "Tesla has a seating capacity of 5.\n"
     ]
    }
   ],
   "source": [
    "class Vechicle:\n",
    "    def __init__(self, name, color):\n",
    "        self.name = name\n",
    "        self.color = color\n",
    "        \n",
    "    def get_info(self):\n",
    "        return f\"NAme: {self.name}, color: {self.color}\"\n",
    "    \n",
    "class Car(Vechicle):\n",
    "    def __init__(self, name, color):\n",
    "        super().__init__(name, color)\n",
    "        \n",
    "    def seating_capacity(self, capacity):\n",
    "        return f\"{self.name} has a seating capacity of {capacity}.\"\n",
    "    \n",
    " #creating an instance of the car class\n",
    "my_car = Car(\"Tesla\", \"Black\")\n",
    "#Access the inherited method from the Vechicle class\n",
    "print(my_car.get_info())\n",
    "\n",
    "#Access the method specific to the car class\n",
    "print(my_car.seating_capacity(5))\n",
    "        "
   ]
  },
  {
   "cell_type": "markdown",
   "id": "65498660-36aa-482a-9fb5-3302f45aa6f8",
   "metadata": {},
   "source": [
    "##Q3. What is multiple inheritance? Write a python code to demonstrate multiple inheritance"
   ]
  },
  {
   "cell_type": "markdown",
   "id": "e0d54e6f-7eea-4a13-8245-d9f55dc82f16",
   "metadata": {},
   "source": [
    "\n",
    "        Multiple inheritance is a feature in object-oriented programming where a class can inherit attributes and methods from more than one base class. This means that a child class can inherit from multiple parent classes simultaneously.\n",
    "\n",
    "In Python, you can achieve multiple inheritance by specifying multiple parent classes in the class definition separated by commas. The child class will inherit all the attributes and methods from each of the parent classes.\n",
    "        "
   ]
  },
  {
   "cell_type": "code",
   "execution_count": 5,
   "id": "d6354c69-b014-4798-812c-f66d01f7a9fd",
   "metadata": {},
   "outputs": [
    {
     "name": "stdout",
     "output_type": "stream",
     "text": [
      "This is method A from class A.\n",
      "This is method B from class B.\n",
      "This is method C from class C.\n"
     ]
    }
   ],
   "source": [
    "class A:\n",
    "    def method_A(self):\n",
    "        print(\"This is method A from class A.\")\n",
    "        \n",
    "class B:\n",
    "    def method_B(self):\n",
    "        print(\"This is method B from class B.\")\n",
    "class C(A,B):\n",
    "    def method_C(self):\n",
    "        print(\"This is method C from class C.\")\n",
    " \n",
    "# Create an instance of class C\n",
    "obj = C()\n",
    "\n",
    "# Access methods from class A\n",
    "obj.method_A()\n",
    "\n",
    "# Access methods from class B\n",
    "obj.method_B()\n",
    "\n",
    "# Access method from class C\n",
    "obj.method_C()       "
   ]
  },
  {
   "cell_type": "markdown",
   "id": "fa3acae7-a76e-4410-a3ee-f2888862caa2",
   "metadata": {},
   "source": [
    "##Q4. What are getter and setter in python? Create a class and create a getter and a setter method in this \n",
    "class"
   ]
  },
  {
   "cell_type": "markdown",
   "id": "780506b7-ba39-4fe6-ba4e-7c5ead900dd1",
   "metadata": {},
   "source": [
    "In Python, getters and setters are methods used to access and modify the attributes of a class. They provide an abstraction layer to control the access and manipulation of class attributes and enable encapsulation.\n",
    "\n",
    "A getter method, also known as an accessor method, is used to retrieve the value of an attribute. It allows access to the attribute's value without directly exposing the attribute itself. Getter methods typically have a naming convention of get_attribute_name.\n",
    "\n",
    "A setter method, also known as a mutator method, is used to set or modify the value of an attribute. It allows controlled modification of the attribute by performing additional checks or validations if necessary. Setter methods typically have a naming convention of set_attribute_name."
   ]
  },
  {
   "cell_type": "code",
   "execution_count": 9,
   "id": "12cc238d-8414-4457-87b7-61600ec3bb60",
   "metadata": {},
   "outputs": [
    {
     "name": "stdout",
     "output_type": "stream",
     "text": [
      "Rahul\n",
      "jana\n",
      "30\n",
      "invalid age! age must be a positive value.\n",
      "30\n"
     ]
    }
   ],
   "source": [
    "class Person:\n",
    "    def __init__(self, name, age):\n",
    "        self._name = name\n",
    "        self._age = age\n",
    "        \n",
    "    def get_name(self):\n",
    "        return self._name\n",
    "    \n",
    "    def set_name(self, name):\n",
    "         self._name= name\n",
    "    \n",
    "    def get_age(self):\n",
    "        return self._age\n",
    "    \n",
    "    def set_age(self,age):\n",
    "        if age>=0:\n",
    "            self._age= age\n",
    "        else:\n",
    "            print(\"invalid age! age must be a positive value.\")\n",
    "            \n",
    "person = Person(\"Rahul\", 30)\n",
    "\n",
    "print(person.get_name())\n",
    "\n",
    "person.set_name(\"jana\")\n",
    "print(person.get_name())\n",
    "\n",
    "print(person.get_age())\n",
    "\n",
    "person.set_age(-4)\n",
    "\n",
    "print(person.get_age())\n"
   ]
  },
  {
   "cell_type": "markdown",
   "id": "65e85a14-3839-4a07-bd73-c20b630a6885",
   "metadata": {},
   "source": [
    "##5.What is method overriding in python? Write a python code to demonstrate method overriding."
   ]
  },
  {
   "cell_type": "code",
   "execution_count": 10,
   "id": "184e23ce-25b4-4f0b-ab97-bab46245549b",
   "metadata": {},
   "outputs": [
    {
     "name": "stdout",
     "output_type": "stream",
     "text": [
      "Calculating area in the Shape class.\n",
      "Calculating area in the Rectangle class.\n"
     ]
    }
   ],
   "source": [
    "class Shape:\n",
    "    def area(self):\n",
    "        print(\"Calculating area in the Shape class.\")\n",
    "\n",
    "\n",
    "class Rectangle(Shape):\n",
    "    def area(self):\n",
    "        print(\"Calculating area in the Rectangle class.\")\n",
    "\n",
    "\n",
    "# Create instances of the classes\n",
    "shape = Shape()\n",
    "rectangle = Rectangle()\n",
    "\n",
    "# Call the area method on the instances\n",
    "shape.area()  # Output: Calculating area in the Shape class.\n",
    "rectangle.area()  # Output: Calculating area in the Rectangle class.\n"
   ]
  },
  {
   "cell_type": "code",
   "execution_count": null,
   "id": "271eea4e-24f5-4af0-a9b5-21e67fa0976d",
   "metadata": {},
   "outputs": [],
   "source": []
  }
 ],
 "metadata": {
  "kernelspec": {
   "display_name": "Python 3 (ipykernel)",
   "language": "python",
   "name": "python3"
  },
  "language_info": {
   "codemirror_mode": {
    "name": "ipython",
    "version": 3
   },
   "file_extension": ".py",
   "mimetype": "text/x-python",
   "name": "python",
   "nbconvert_exporter": "python",
   "pygments_lexer": "ipython3",
   "version": "3.10.8"
  }
 },
 "nbformat": 4,
 "nbformat_minor": 5
}
